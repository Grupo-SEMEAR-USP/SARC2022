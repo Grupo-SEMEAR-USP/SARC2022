{
 "cells": [
  {
   "cell_type": "code",
   "execution_count": 1,
   "id": "42169085",
   "metadata": {},
   "outputs": [],
   "source": [
    "%matplotlib notebook"
   ]
  },
  {
   "cell_type": "code",
   "execution_count": 2,
   "id": "3c408530",
   "metadata": {},
   "outputs": [
    {
     "name": "stdout",
     "output_type": "stream",
     "text": [
      "Requirement already satisfied: sk-video in /home/raul/.local/lib/python3.8/site-packages (1.1.10)\n",
      "Requirement already satisfied: scipy in /home/raul/.local/lib/python3.8/site-packages (from sk-video) (1.8.1)\n",
      "Requirement already satisfied: numpy in /home/raul/.local/lib/python3.8/site-packages (from sk-video) (1.22.4)\n",
      "Requirement already satisfied: imageio in /home/raul/.local/lib/python3.8/site-packages (2.19.3)\n",
      "Requirement already satisfied: pillow>=8.3.2 in /home/raul/.local/lib/python3.8/site-packages (from imageio) (9.1.1)\n",
      "Requirement already satisfied: numpy in /home/raul/.local/lib/python3.8/site-packages (from imageio) (1.22.4)\n"
     ]
    }
   ],
   "source": [
    "!pip install sk-video\n",
    "!pip install imageio"
   ]
  },
  {
   "cell_type": "code",
   "execution_count": 3,
   "id": "04735c5a",
   "metadata": {},
   "outputs": [],
   "source": [
    "import matplotlib.pyplot as plt\n",
    "import matplotlib.image as mpimg\n",
    "from mpl_toolkits.mplot3d import Axes3D\n",
    "import matplotlib.animation as animation\n",
    "import numpy as np\n",
    "import pandas as pd\n",
    "import skvideo.io\n",
    "import cv2\n",
    "import json\n",
    "import imageio"
   ]
  },
  {
   "cell_type": "code",
   "execution_count": 28,
   "id": "d69d1f2d",
   "metadata": {},
   "outputs": [],
   "source": [
    "#videodata = skvideo.io.vread(\"videos/simulacao_completa.mp4\")  \n",
    "\n",
    "#print(videodata.shape)\n",
    "\n",
    "video = cv2.VideoCapture(\"videos/simulation.m4v\")\n",
    "\n",
    "# Check if camera opened successfully\n",
    "if (video.isOpened()== False): \n",
    "  print(\"Error opening video stream or file\")\n",
    "\n",
    "# Read until video is completed\n",
    "while(video.isOpened()):\n",
    "  # Capture frame-by-frame\n",
    "  ret, frame = video.read()\n",
    "  if ret == True:\n",
    "\n",
    "    # Display the resulting frame\n",
    "    cv2.imshow('Frame',frame)\n",
    "\n",
    "    # Press Q on keyboard to  exit\n",
    "    if cv2.waitKey(25) & 0xFF == ord('q'):\n",
    "      break\n",
    "\n",
    "  # Break the loop\n",
    "  else: \n",
    "    break"
   ]
  },
  {
   "cell_type": "code",
   "execution_count": null,
   "id": "d61a3fa1",
   "metadata": {},
   "outputs": [],
   "source": [
    "cap = cv2.VideoCapture('videos/simulation.m4v')\n",
    "fps = cap.get(cv2.CAP_PROP_FPS)\n",
    "#start_time = 20*fps\n",
    "#end_time = 25*fps\n",
    "image_lst = []\n",
    "i = 0\n",
    "\n",
    "while True:\n",
    "    ret, frame = cap.read()\n",
    "    if ret == False:\n",
    "        break\n",
    "    #if (i>=start_time and i<=end_time):\n",
    "    frame_rgb = cv2.cvtColor(frame, cv2.COLOR_BGR2RGB)\n",
    "    image_lst.append(frame_rgb)\n",
    "\n",
    "    '''cv2.imshow('a', frame)\n",
    "    key = cv2.waitKey(1)\n",
    "    if key == ord('q'):\n",
    "        break'''\n",
    "    i +=1\n",
    "\n",
    "cap.release()\n",
    "cv2.destroyAllWindows()\n",
    "\n",
    "# Convert to gif using the imageio.mimsave method\n",
    "imageio.mimsave('videos/simulation.gif', image_lst, fps=60)"
   ]
  }
 ],
 "metadata": {
  "kernelspec": {
   "display_name": "Python 3 (ipykernel)",
   "language": "python",
   "name": "python3"
  },
  "language_info": {
   "codemirror_mode": {
    "name": "ipython",
    "version": 3
   },
   "file_extension": ".py",
   "mimetype": "text/x-python",
   "name": "python",
   "nbconvert_exporter": "python",
   "pygments_lexer": "ipython3",
   "version": "3.8.10"
  }
 },
 "nbformat": 4,
 "nbformat_minor": 5
}
