{
 "cells": [
  {
   "cell_type": "code",
   "execution_count": 141,
   "metadata": {},
   "outputs": [],
   "source": [
    "import numpy as np\n",
    "import pandas as pd\n",
    "import matplotlib.pyplot as plt\n"
   ]
  },
  {
   "cell_type": "markdown",
   "metadata": {},
   "source": [
    "Funções para obtenção dos coeficientes de potência e das potẽncias em si."
   ]
  },
  {
   "cell_type": "code",
   "execution_count": 142,
   "metadata": {},
   "outputs": [],
   "source": [
    "def cp_coefficient(rad_s_input: pd.Series, rad_s_data: pd.Series, cp_data: pd.Series) -> pd.Series:\n",
    "    \n",
    "    cp = np.interp(x = rad_s_input, xp = rad_s_data, fp = cp_data)\n",
    "    return cp\n",
    "\n",
    "def power_propeller_w(cp: float, rev_per_sec: float, propeller_diameter_m: float, rho = 1.225) -> float:\n",
    "    # Unidades SI\n",
    "\n",
    "    power = cp * rho * rev_per_sec**3 * propeller_diameter_m**5\n",
    "\n",
    "    return power"
   ]
  },
  {
   "cell_type": "markdown",
   "metadata": {},
   "source": [
    "Dados da hélice"
   ]
  },
  {
   "cell_type": "code",
   "execution_count": 143,
   "metadata": {},
   "outputs": [
    {
     "data": {
      "text/html": [
       "<div>\n",
       "<style scoped>\n",
       "    .dataframe tbody tr th:only-of-type {\n",
       "        vertical-align: middle;\n",
       "    }\n",
       "\n",
       "    .dataframe tbody tr th {\n",
       "        vertical-align: top;\n",
       "    }\n",
       "\n",
       "    .dataframe thead th {\n",
       "        text-align: right;\n",
       "    }\n",
       "</style>\n",
       "<table border=\"1\" class=\"dataframe\">\n",
       "  <thead>\n",
       "    <tr style=\"text-align: right;\">\n",
       "      <th></th>\n",
       "      <th>RPM</th>\n",
       "      <th>CT</th>\n",
       "      <th>CP</th>\n",
       "      <th>rad_per_sec</th>\n",
       "      <th>rev_per_sec</th>\n",
       "    </tr>\n",
       "  </thead>\n",
       "  <tbody>\n",
       "    <tr>\n",
       "      <th>0</th>\n",
       "      <td>2377.0</td>\n",
       "      <td>0.1059</td>\n",
       "      <td>0.0431</td>\n",
       "      <td>248.918858</td>\n",
       "      <td>39.616667</td>\n",
       "    </tr>\n",
       "    <tr>\n",
       "      <th>1</th>\n",
       "      <td>2676.0</td>\n",
       "      <td>0.1079</td>\n",
       "      <td>0.0437</td>\n",
       "      <td>280.230065</td>\n",
       "      <td>44.600000</td>\n",
       "    </tr>\n",
       "    <tr>\n",
       "      <th>2</th>\n",
       "      <td>2947.0</td>\n",
       "      <td>0.1079</td>\n",
       "      <td>0.0437</td>\n",
       "      <td>308.609118</td>\n",
       "      <td>49.116667</td>\n",
       "    </tr>\n",
       "    <tr>\n",
       "      <th>3</th>\n",
       "      <td>3234.0</td>\n",
       "      <td>0.1104</td>\n",
       "      <td>0.0444</td>\n",
       "      <td>338.663688</td>\n",
       "      <td>53.900000</td>\n",
       "    </tr>\n",
       "    <tr>\n",
       "      <th>4</th>\n",
       "      <td>3494.0</td>\n",
       "      <td>0.1117</td>\n",
       "      <td>0.0450</td>\n",
       "      <td>365.890824</td>\n",
       "      <td>58.233333</td>\n",
       "    </tr>\n",
       "  </tbody>\n",
       "</table>\n",
       "</div>"
      ],
      "text/plain": [
       "      RPM      CT      CP  rad_per_sec  rev_per_sec\n",
       "0  2377.0  0.1059  0.0431   248.918858    39.616667\n",
       "1  2676.0  0.1079  0.0437   280.230065    44.600000\n",
       "2  2947.0  0.1079  0.0437   308.609118    49.116667\n",
       "3  3234.0  0.1104  0.0444   338.663688    53.900000\n",
       "4  3494.0  0.1117  0.0450   365.890824    58.233333"
      ]
     },
     "metadata": {},
     "output_type": "display_data"
    }
   ],
   "source": [
    "prop_diameter = 10 * 0.254 #m\n",
    "\n",
    "df_prop = pd.read_csv('propeller_data/apcsf_10x4.7_static_kt0835.txt',\n",
    "            sep = '\\s+', dtype = {'RPM': np.float64, 'CT': np.float64, 'CP': np.float64})\n",
    "\n",
    "df_prop['rad_per_sec'] = df_prop['RPM'] * 2*np.pi/60.0\n",
    "df_prop['rev_per_sec'] = df_prop['RPM']/60.0\n",
    "display(df_prop.head())"
   ]
  },
  {
   "cell_type": "markdown",
   "metadata": {},
   "source": [
    " Leitura dos joints dos motores. \n",
    " Conforme a documentação, as unidades de velocidade angulas estão em $rad/s$.\n",
    "\n",
    " http://docs.ros.org/en/noetic/api/sensor_msgs/html/msg/JointState.html"
   ]
  },
  {
   "cell_type": "code",
   "execution_count": 144,
   "metadata": {},
   "outputs": [],
   "source": [
    "df_rotor0 = pd.read_csv('logs/Plot_Name-uav1_rotor_0_joint0_velocity.csv', sep = ',',\n",
    "            names = ['time', 'rad_s'])\n",
    "df_rotor0.drop([0], axis = 0, inplace = True)\n",
    "df_rotor0 = df_rotor0.astype({'time': np.float64, 'rad_s': np.float64}, copy = False)\n",
    "\n",
    "df_rotor1 = pd.read_csv('logs/Plot_Name-uav1_rotor_1_joint0_velocity.csv', sep = ',',\n",
    "            names = ['time', 'rad_s'])\n",
    "df_rotor1.drop([0], axis = 0, inplace = True)\n",
    "df_rotor1 = df_rotor0.astype({'time': np.float64, 'rad_s': np.float64}, copy = False)\n",
    "\n",
    "\n",
    "df_rotor2 = pd.read_csv('logs/Plot_Name-uav1_rotor_2_joint0_velocity.csv', sep = ',',\n",
    "            names = ['time', 'rad_s'])\n",
    "df_rotor2.drop([0], axis = 0, inplace = True)\n",
    "df_rotor2 = df_rotor0.astype({'time': np.float64, 'rad_s': np.float64}, copy = False)\n",
    "\n",
    "df_rotor3 = pd.read_csv('logs/Plot_Name-uav1_rotor_3_joint0_velocity.csv', sep = ',',\n",
    "            names = ['time', 'rad_s'])\n",
    "df_rotor3.drop([0], axis = 0, inplace = True)\n",
    "df_rotor3 = df_rotor0.astype({'time': np.float64, 'rad_s': np.float64}, copy = False)\n",
    "\n",
    "df_list = [df_rotor0, df_rotor1, df_rotor2, df_rotor3]"
   ]
  },
  {
   "cell_type": "code",
   "execution_count": 145,
   "metadata": {},
   "outputs": [
    {
     "name": "stdout",
     "output_type": "stream",
     "text": [
      "<class 'pandas.core.frame.DataFrame'>\n",
      "Int64Index: 10599 entries, 1 to 10599\n",
      "Data columns (total 2 columns):\n",
      " #   Column  Non-Null Count  Dtype  \n",
      "---  ------  --------------  -----  \n",
      " 0   time    10599 non-null  float64\n",
      " 1   rad_s   10599 non-null  float64\n",
      "dtypes: float64(2)\n",
      "memory usage: 248.4 KB\n"
     ]
    }
   ],
   "source": [
    "df_rotor1.info()"
   ]
  },
  {
   "cell_type": "code",
   "execution_count": 146,
   "metadata": {},
   "outputs": [],
   "source": [
    "def plot_time_vel(df, lab_str):\n",
    "\n",
    "    time_sec = df.time[::]\n",
    "    angular_vel = df.rad_s[::]\n",
    "\n",
    "    plt.plot(time_sec, angular_vel, alpha = 0.8, label = lab_str)\n",
    "    plt.grid(True)\n",
    "    plt.xlabel('Time [sec]')\n",
    "    plt.ylabel('Angular velocity [rad/s]')\n",
    "    plt.legend()\n"
   ]
  },
  {
   "cell_type": "code",
   "execution_count": 147,
   "metadata": {},
   "outputs": [
    {
     "name": "stderr",
     "output_type": "stream",
     "text": [
      "No handles with labels found to put in legend.\n"
     ]
    },
    {
     "data": {
      "image/png": "[encoded data removed]",
      "text/plain": [
       "<Figure size 720x576 with 1 Axes>"
      ]
     },
     "metadata": {
      "needs_background": "light"
     },
     "output_type": "display_data"
    }
   ],
   "source": [
    "plt.figure(figsize=(10, 8))\n",
    "plt.title('rad/s - motor 1')\n",
    "plot_time_vel(df = df_rotor1, lab_str = None)\n",
    "plt.show()"
   ]
  },
  {
   "cell_type": "code",
   "execution_count": 148,
   "metadata": {},
   "outputs": [
    {
     "data": {
      "text/html": [
       "<div>\n",
       "<style scoped>\n",
       "    .dataframe tbody tr th:only-of-type {\n",
       "        vertical-align: middle;\n",
       "    }\n",
       "\n",
       "    .dataframe tbody tr th {\n",
       "        vertical-align: top;\n",
       "    }\n",
       "\n",
       "    .dataframe thead th {\n",
       "        text-align: right;\n",
       "    }\n",
       "</style>\n",
       "<table border=\"1\" class=\"dataframe\">\n",
       "  <thead>\n",
       "    <tr style=\"text-align: right;\">\n",
       "      <th></th>\n",
       "      <th>time</th>\n",
       "      <th>rad_s</th>\n",
       "      <th>cp</th>\n",
       "      <th>rev_per_sec</th>\n",
       "    </tr>\n",
       "  </thead>\n",
       "  <tbody>\n",
       "    <tr>\n",
       "      <th>1</th>\n",
       "      <td>387.036</td>\n",
       "      <td>49.8978</td>\n",
       "      <td>0.0431</td>\n",
       "      <td>7.941482</td>\n",
       "    </tr>\n",
       "    <tr>\n",
       "      <th>2</th>\n",
       "      <td>387.040</td>\n",
       "      <td>49.6979</td>\n",
       "      <td>0.0431</td>\n",
       "      <td>7.909666</td>\n",
       "    </tr>\n",
       "    <tr>\n",
       "      <th>3</th>\n",
       "      <td>387.044</td>\n",
       "      <td>49.3883</td>\n",
       "      <td>0.0431</td>\n",
       "      <td>7.860392</td>\n",
       "    </tr>\n",
       "    <tr>\n",
       "      <th>4</th>\n",
       "      <td>387.048</td>\n",
       "      <td>49.1245</td>\n",
       "      <td>0.0431</td>\n",
       "      <td>7.818407</td>\n",
       "    </tr>\n",
       "    <tr>\n",
       "      <th>5</th>\n",
       "      <td>387.052</td>\n",
       "      <td>48.7419</td>\n",
       "      <td>0.0431</td>\n",
       "      <td>7.757514</td>\n",
       "    </tr>\n",
       "  </tbody>\n",
       "</table>\n",
       "</div>"
      ],
      "text/plain": [
       "      time    rad_s      cp  rev_per_sec\n",
       "1  387.036  49.8978  0.0431     7.941482\n",
       "2  387.040  49.6979  0.0431     7.909666\n",
       "3  387.044  49.3883  0.0431     7.860392\n",
       "4  387.048  49.1245  0.0431     7.818407\n",
       "5  387.052  48.7419  0.0431     7.757514"
      ]
     },
     "metadata": {},
     "output_type": "display_data"
    },
    {
     "data": {
      "text/html": [
       "<div>\n",
       "<style scoped>\n",
       "    .dataframe tbody tr th:only-of-type {\n",
       "        vertical-align: middle;\n",
       "    }\n",
       "\n",
       "    .dataframe tbody tr th {\n",
       "        vertical-align: top;\n",
       "    }\n",
       "\n",
       "    .dataframe thead th {\n",
       "        text-align: right;\n",
       "    }\n",
       "</style>\n",
       "<table border=\"1\" class=\"dataframe\">\n",
       "  <thead>\n",
       "    <tr style=\"text-align: right;\">\n",
       "      <th></th>\n",
       "      <th>time</th>\n",
       "      <th>rad_s</th>\n",
       "      <th>cp</th>\n",
       "      <th>rev_per_sec</th>\n",
       "    </tr>\n",
       "  </thead>\n",
       "  <tbody>\n",
       "    <tr>\n",
       "      <th>10595</th>\n",
       "      <td>429.412</td>\n",
       "      <td>16.5188</td>\n",
       "      <td>0.0431</td>\n",
       "      <td>2.629049</td>\n",
       "    </tr>\n",
       "    <tr>\n",
       "      <th>10596</th>\n",
       "      <td>429.416</td>\n",
       "      <td>16.5185</td>\n",
       "      <td>0.0431</td>\n",
       "      <td>2.629001</td>\n",
       "    </tr>\n",
       "    <tr>\n",
       "      <th>10597</th>\n",
       "      <td>429.420</td>\n",
       "      <td>16.5182</td>\n",
       "      <td>0.0431</td>\n",
       "      <td>2.628953</td>\n",
       "    </tr>\n",
       "    <tr>\n",
       "      <th>10598</th>\n",
       "      <td>429.424</td>\n",
       "      <td>16.5349</td>\n",
       "      <td>0.0431</td>\n",
       "      <td>2.631611</td>\n",
       "    </tr>\n",
       "    <tr>\n",
       "      <th>10599</th>\n",
       "      <td>429.428</td>\n",
       "      <td>16.5470</td>\n",
       "      <td>0.0431</td>\n",
       "      <td>2.633537</td>\n",
       "    </tr>\n",
       "  </tbody>\n",
       "</table>\n",
       "</div>"
      ],
      "text/plain": [
       "          time    rad_s      cp  rev_per_sec\n",
       "10595  429.412  16.5188  0.0431     2.629049\n",
       "10596  429.416  16.5185  0.0431     2.629001\n",
       "10597  429.420  16.5182  0.0431     2.628953\n",
       "10598  429.424  16.5349  0.0431     2.631611\n",
       "10599  429.428  16.5470  0.0431     2.633537"
      ]
     },
     "metadata": {},
     "output_type": "display_data"
    }
   ],
   "source": [
    "df_rotor0['cp'] = cp_coefficient(\n",
    "    rad_s_input = df_rotor0['rad_s'],\n",
    "    rad_s_data = df_prop['rad_per_sec'],\n",
    "    cp_data = df_prop['CP'])\n",
    "\n",
    "df_rotor0['rev_per_sec'] = df_rotor0['rad_s']/(2*np.pi)\n",
    "\n",
    "display(df_rotor0.head())\n",
    "display(df_rotor0.tail())\n"
   ]
  },
  {
   "cell_type": "code",
   "execution_count": 150,
   "metadata": {},
   "outputs": [
    {
     "data": {
      "text/html": [
       "<div>\n",
       "<style scoped>\n",
       "    .dataframe tbody tr th:only-of-type {\n",
       "        vertical-align: middle;\n",
       "    }\n",
       "\n",
       "    .dataframe tbody tr th {\n",
       "        vertical-align: top;\n",
       "    }\n",
       "\n",
       "    .dataframe thead th {\n",
       "        text-align: right;\n",
       "    }\n",
       "</style>\n",
       "<table border=\"1\" class=\"dataframe\">\n",
       "  <thead>\n",
       "    <tr style=\"text-align: right;\">\n",
       "      <th></th>\n",
       "      <th>time</th>\n",
       "      <th>rad_s</th>\n",
       "      <th>cp</th>\n",
       "      <th>rev_per_sec</th>\n",
       "      <th>power_w</th>\n",
       "      <th>new_time</th>\n",
       "      <th>dP</th>\n",
       "    </tr>\n",
       "  </thead>\n",
       "  <tbody>\n",
       "    <tr>\n",
       "      <th>1</th>\n",
       "      <td>387.036</td>\n",
       "      <td>49.8978</td>\n",
       "      <td>0.0431</td>\n",
       "      <td>7.941482</td>\n",
       "      <td>2795.674021</td>\n",
       "      <td>0.000</td>\n",
       "      <td>11.182696</td>\n",
       "    </tr>\n",
       "    <tr>\n",
       "      <th>2</th>\n",
       "      <td>387.040</td>\n",
       "      <td>49.6979</td>\n",
       "      <td>0.0431</td>\n",
       "      <td>7.909666</td>\n",
       "      <td>2762.208456</td>\n",
       "      <td>0.004</td>\n",
       "      <td>11.048834</td>\n",
       "    </tr>\n",
       "    <tr>\n",
       "      <th>3</th>\n",
       "      <td>387.044</td>\n",
       "      <td>49.3883</td>\n",
       "      <td>0.0431</td>\n",
       "      <td>7.860392</td>\n",
       "      <td>2710.906691</td>\n",
       "      <td>0.008</td>\n",
       "      <td>10.843627</td>\n",
       "    </tr>\n",
       "    <tr>\n",
       "      <th>4</th>\n",
       "      <td>387.048</td>\n",
       "      <td>49.1245</td>\n",
       "      <td>0.0431</td>\n",
       "      <td>7.818407</td>\n",
       "      <td>2667.698632</td>\n",
       "      <td>0.012</td>\n",
       "      <td>10.670795</td>\n",
       "    </tr>\n",
       "    <tr>\n",
       "      <th>5</th>\n",
       "      <td>387.052</td>\n",
       "      <td>48.7419</td>\n",
       "      <td>0.0431</td>\n",
       "      <td>7.757514</td>\n",
       "      <td>2605.851722</td>\n",
       "      <td>0.016</td>\n",
       "      <td>10.423407</td>\n",
       "    </tr>\n",
       "  </tbody>\n",
       "</table>\n",
       "</div>"
      ],
      "text/plain": [
       "      time    rad_s      cp  rev_per_sec      power_w  new_time         dP\n",
       "1  387.036  49.8978  0.0431     7.941482  2795.674021     0.000  11.182696\n",
       "2  387.040  49.6979  0.0431     7.909666  2762.208456     0.004  11.048834\n",
       "3  387.044  49.3883  0.0431     7.860392  2710.906691     0.008  10.843627\n",
       "4  387.048  49.1245  0.0431     7.818407  2667.698632     0.012  10.670795\n",
       "5  387.052  48.7419  0.0431     7.757514  2605.851722     0.016  10.423407"
      ]
     },
     "metadata": {},
     "output_type": "display_data"
    },
    {
     "name": "stdout",
     "output_type": "stream",
     "text": [
      "Power consumed: 66134.93646503892 watts\n"
     ]
    }
   ],
   "source": [
    "power = power_propeller_w(\n",
    "    cp = df_rotor0['cp'],\n",
    "    rev_per_sec = df_rotor0['rev_per_sec'],\n",
    "    propeller_diameter_m = prop_diameter)\n",
    "\n",
    "df_rotor0['power_w'] = power\n",
    "df_rotor0['new_time'] = df_rotor0['time'] - list(df_rotor0['time'])[0]\n",
    "df_rotor0['dP'] = 0.004 * df_rotor0['power_w']\n",
    "display(df_rotor0.head())\n",
    "\n",
    "print(f'Power consumed: {df_rotor0.dP.sum()} watts')"
   ]
  },
  {
   "cell_type": "code",
   "execution_count": null,
   "metadata": {},
   "outputs": [],
   "source": []
  }
 ],
 "metadata": {
  "kernelspec": {
   "display_name": "Python 3.8.10 64-bit",
   "language": "python",
   "name": "python3"
  },
  "language_info": {
   "codemirror_mode": {
    "name": "ipython",
    "version": 3
   },
   "file_extension": ".py",
   "mimetype": "text/x-python",
   "name": "python",
   "nbconvert_exporter": "python",
   "pygments_lexer": "ipython3",
   "version": "3.8.10"
  },
  "orig_nbformat": 4,
  "vscode": {
   "interpreter": {
    "hash": "916dbcbb3f70747c44a77c7bcd40155683ae19c65e1c03b4aa3499c5328201f1"
   }
  }
 },
 "nbformat": 4,
 "nbformat_minor": 2
}
